{
 "cells": [
  {
   "cell_type": "code",
   "execution_count": 252,
   "metadata": {},
   "outputs": [
    {
     "data": {
      "text/plain": [
       "232"
      ]
     },
     "execution_count": 252,
     "metadata": {},
     "output_type": "execute_result"
    }
   ],
   "source": [
    "from random import randbytes  # !!! Not secure but convenient\n",
    "import random\n",
    "import bitstring\n",
    "\n",
    "message = 'Hello, this message is secret'\n",
    "plainText = bitstring.Bits(bytes(message, encoding='ascii'))\n",
    "# plainText = bytes(message, encoding='ascii')\n",
    "# plainText.hex()\n",
    "len(plainText.bin)\n"
   ]
  },
  {
   "cell_type": "code",
   "execution_count": 53,
   "metadata": {},
   "outputs": [],
   "source": [
    "mGroup = [263, 271, 283, 307, 311, 331, 347, 359, 367, 379, 383, 419, 431, 439, 443, 463, 467, 479, 487, 491, 499, 503, 523, 547, 563, 571]\n"
   ]
  },
  {
   "cell_type": "code",
   "execution_count": 273,
   "metadata": {},
   "outputs": [],
   "source": [
    "def greatestCommonDivisor(a, b):\n",
    "    while b > 0:\n",
    "        a, b = b, a % b\n",
    "    return a\n",
    "\n",
    "\n",
    "def lowestCommonMultiple(a, b):\n",
    "    return a * b / greatestCommonDivisor(a, b)"
   ]
  },
  {
   "cell_type": "code",
   "execution_count": 262,
   "metadata": {},
   "outputs": [
    {
     "data": {
      "text/plain": [
       "512"
      ]
     },
     "execution_count": 262,
     "metadata": {},
     "output_type": "execute_result"
    }
   ],
   "source": [
    "key = bitstring.Bits('0x cc554b140b0ae386a66d a2 ff 19 3a b3 b2 68 e2 62 22 db b6 f2 f8 d0 c1 34 e5 3f 5b 8e f5 55 5c fa ee c5 d4 1f 97 25 bf 2c 4d 3b a7 53 fc 1d 01 f2 8b ea 40 a3 f5 3a 4c c6 8e e9 3f d0 83')\n",
    "len(key)\n"
   ]
  },
  {
   "attachments": {},
   "cell_type": "markdown",
   "metadata": {},
   "source": [
    "# One Time Pad"
   ]
  },
  {
   "cell_type": "code",
   "execution_count": 266,
   "metadata": {},
   "outputs": [
    {
     "name": "stdout",
     "output_type": "stream",
     "text": [
      "0x843027786426c3f2ce04d1df745fc0c109850702b2c5d28bb5a246804b\n"
     ]
    }
   ],
   "source": [
    "# Encrypt\n",
    "cipherText = key[0:len(plainText)] ^ plainText\n",
    "print(cipherText)"
   ]
  },
  {
   "cell_type": "code",
   "execution_count": 268,
   "metadata": {},
   "outputs": [
    {
     "name": "stdout",
     "output_type": "stream",
     "text": [
      "b'Hello, this message is secret'\n"
     ]
    }
   ],
   "source": [
    "# Decrypt\n",
    "print((cipherText ^ key[0:len(cipherText)]).bytes)\n"
   ]
  },
  {
   "attachments": {},
   "cell_type": "markdown",
   "metadata": {},
   "source": [
    "# RSA"
   ]
  },
  {
   "cell_type": "code",
   "execution_count": 274,
   "metadata": {},
   "outputs": [],
   "source": [
    "def mod_inverse(a, m):\n",
    "    for x in range(1, m):\n",
    "        if (a * x) % m == 1:\n",
    "            return x\n",
    "    return -1"
   ]
  },
  {
   "cell_type": "code",
   "execution_count": 275,
   "metadata": {},
   "outputs": [],
   "source": [
    "p = random.choice(mGroup)\n",
    "q = random.choice(mGroup)\n",
    "n = p*q\n",
    "\n",
    "phi = (p - 1) * (q - 1)\n",
    "\n",
    "c = random.randint(3, phi)\n",
    "while greatestCommonDivisor(c, phi) != 1:\n",
    "  c = random.randint(3, phi)\n",
    "\n",
    "d = mod_inverse(c, phi)\n",
    "\n",
    "pk = (c,n)\n",
    "sk = (d,n)"
   ]
  },
  {
   "cell_type": "code",
   "execution_count": 283,
   "metadata": {},
   "outputs": [],
   "source": [
    "#Encrypt\n",
    "cipherText = [pow(b, c, n) for b in plainText.bytes]\n"
   ]
  },
  {
   "cell_type": "code",
   "execution_count": 284,
   "metadata": {},
   "outputs": [
    {
     "name": "stdout",
     "output_type": "stream",
     "text": [
      "Hello, this message is secret\n"
     ]
    }
   ],
   "source": [
    "# Decrypt\n",
    "print(''.join([chr(pow(b, d, n)) for b in cipherText]))\n"
   ]
  },
  {
   "attachments": {},
   "cell_type": "markdown",
   "metadata": {},
   "source": [
    "# s square mod n generator"
   ]
  },
  {
   "cell_type": "code",
   "execution_count": 295,
   "metadata": {},
   "outputs": [
    {
     "data": {
      "text/plain": [
       "('100110100011100100110001011111', 79687)"
      ]
     },
     "execution_count": 295,
     "metadata": {},
     "output_type": "execute_result"
    }
   ],
   "source": [
    "p = random.choice(mGroup)\n",
    "q = random.choice(mGroup)\n",
    "n = p*q\n",
    "s = random.choice(mGroup)\n",
    "\n",
    "def getBitString(length, n, s):\n",
    "    b = ''\n",
    "    for i in range(0, length):\n",
    "        s = pow(s, 2, n)\n",
    "        b += str(s % 2)\n",
    "    return b, pow(s, 2, n)\n",
    "\n",
    "getBitString(30, n, s)"
   ]
  },
  {
   "cell_type": "markdown",
   "metadata": {},
   "source": [
    "### Encryption with s²modn"
   ]
  },
  {
   "cell_type": "code",
   "execution_count": 297,
   "metadata": {},
   "outputs": [],
   "source": [
    "# Encrypt\n",
    "randomString, skp1 = getBitString(len(plainText), n, random.choice(mGroup))\n",
    "key = bitstring.Bits('0b' + randomString)\n",
    "cipherText = plainText ^ key"
   ]
  },
  {
   "cell_type": "markdown",
   "metadata": {},
   "source": [
    "# Birthday Paradox"
   ]
  },
  {
   "cell_type": "code",
   "execution_count": 323,
   "metadata": {},
   "outputs": [
    {
     "data": {
      "text/plain": [
       "(22.925967809451357, 0.8343768898397945)"
      ]
     },
     "execution_count": 323,
     "metadata": {},
     "output_type": "execute_result"
    }
   ],
   "source": [
    "n = 12 # Number of samples\n",
    "B = 365 #size of range\n",
    "pairs = n*(n-1)/2 # Number of possible pairs\n",
    "\n",
    "Pdiff = (B-1)/B\n",
    "PAllDifferent = pow(Pdiff, pairs)\n",
    "maxN = 1.2*pow(B, 0.5)\n",
    "maxN, PAllDifferent\n",
    "\n",
    "# If n < maxN then PAllDifferent < 0.5\n"
   ]
  },
  {
   "attachments": {},
   "cell_type": "markdown",
   "metadata": {},
   "source": [
    "# RSA"
   ]
  },
  {
   "cell_type": "code",
   "execution_count": 302,
   "metadata": {},
   "outputs": [
    {
     "data": {
      "text/plain": [
       "2.001910439293965"
      ]
     },
     "execution_count": 302,
     "metadata": {},
     "output_type": "execute_result"
    }
   ],
   "source": [
    "p = random.choice(mGroup)\n",
    "q = random.choice(mGroup)\n",
    "n = p*q\n",
    "\n"
   ]
  }
 ],
 "metadata": {
  "kernelspec": {
   "display_name": "base",
   "language": "python",
   "name": "python3"
  },
  "language_info": {
   "codemirror_mode": {
    "name": "ipython",
    "version": 3
   },
   "file_extension": ".py",
   "mimetype": "text/x-python",
   "name": "python",
   "nbconvert_exporter": "python",
   "pygments_lexer": "ipython3",
   "version": "3.9.13"
  },
  "orig_nbformat": 4,
  "vscode": {
   "interpreter": {
    "hash": "c31f9a8c3aa1c3c728ca9635375839dde89f8ec10169db463330867a67196863"
   }
  }
 },
 "nbformat": 4,
 "nbformat_minor": 2
}
